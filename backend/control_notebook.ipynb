{
 "cells": [
  {
   "cell_type": "code",
   "execution_count": 11,
   "metadata": {},
   "outputs": [],
   "source": [
    "from flask import Flask, render_template, jsonify\n",
    "import requests\n",
    "import time\n",
    "from azure.storage.blob import BlobServiceClient as syncBlobServiceClient\n",
    "import os\n",
    "import asyncio\n",
    "\n",
    "from azure.identity.aio import DefaultAzureCredential\n",
    "from azure.storage.blob.aio import BlobServiceClient, BlobClient\n"
   ]
  },
  {
   "cell_type": "code",
   "execution_count": 12,
   "metadata": {},
   "outputs": [],
   "source": [
    "\n",
    "# Azure Blob Storage connection string and container details\n",
    "AZURE_CONNECTION_STRING = \"DefaultEndpointsProtocol=https;AccountName=oishik;AccountKey=aleUFtKbyShYewMZZZ1vKx+iQK9tmfaqy3pkGdsB0Sv5a+MeiePSpii8s6JpOyWi1Yh7uXiNxW+s+AStq044EQ==;EndpointSuffix=core.windows.net\"\n",
    "CONTAINER_NAME = \"tvi\"\n",
    "\n",
    "# Blob service client\n",
    "blob_service_client = syncBlobServiceClient.from_connection_string(AZURE_CONNECTION_STRING)\n",
    "container_client = blob_service_client.get_container_client(CONTAINER_NAME)\n"
   ]
  },
  {
   "cell_type": "code",
   "execution_count": 14,
   "metadata": {},
   "outputs": [],
   "source": [
    "\n",
    "# The Raspberry Pi IP address or hostname\n",
    "raspberry_pi_url = \"http://<raspberry-pi-ip>:5000/take_picture\"\n",
    "\n",
    "\n",
    "blob_list = container_client.list_blobs(name_starts_with='raspberry_pi_uploads')\n",
    "image_blob_names = []\n",
    "for blob in blob_list:\n",
    "    image_blob_names.append(blob.name)\n",
    "    # image_urls.append(f\"https://oishik.blob.core.windows.net/{CONTAINER_NAME}/{blob.name}\")"
   ]
  },
  {
   "cell_type": "code",
   "execution_count": null,
   "metadata": {},
   "outputs": [
    {
     "ename": "TypeError",
     "evalue": "object of type 'AsyncItemPaged' has no len()",
     "output_type": "error",
     "traceback": [
      "\u001b[1;31m---------------------------------------------------------------------------\u001b[0m",
      "\u001b[1;31mTypeError\u001b[0m                                 Traceback (most recent call last)",
      "Cell \u001b[1;32mIn[10], line 1\u001b[0m\n\u001b[1;32m----> 1\u001b[0m \u001b[38;5;28;43mlen\u001b[39;49m\u001b[43m(\u001b[49m\u001b[43mblob_list\u001b[49m\u001b[43m)\u001b[49m\n",
      "\u001b[1;31mTypeError\u001b[0m: object of type 'AsyncItemPaged' has no len()"
     ]
    }
   ],
   "source": []
  },
  {
   "cell_type": "code",
   "execution_count": 57,
   "metadata": {},
   "outputs": [
    {
     "ename": "UnidentifiedImageError",
     "evalue": "cannot identify image file <_io.BytesIO object at 0x0000020CCB565EE0>",
     "output_type": "error",
     "traceback": [
      "\u001b[1;31m---------------------------------------------------------------------------\u001b[0m",
      "\u001b[1;31mUnidentifiedImageError\u001b[0m                    Traceback (most recent call last)",
      "Cell \u001b[1;32mIn[57], line 5\u001b[0m\n\u001b[0;32m      3\u001b[0m url \u001b[38;5;241m=\u001b[39m image_urls[\u001b[38;5;241m0\u001b[39m]\n\u001b[0;32m      4\u001b[0m response \u001b[38;5;241m=\u001b[39m requests\u001b[38;5;241m.\u001b[39mget(url)\n\u001b[1;32m----> 5\u001b[0m img \u001b[38;5;241m=\u001b[39m \u001b[43mImage\u001b[49m\u001b[38;5;241;43m.\u001b[39;49m\u001b[43mopen\u001b[49m\u001b[43m(\u001b[49m\u001b[43mBytesIO\u001b[49m\u001b[43m(\u001b[49m\u001b[43mresponse\u001b[49m\u001b[38;5;241;43m.\u001b[39;49m\u001b[43mcontent\u001b[49m\u001b[43m)\u001b[49m\u001b[43m)\u001b[49m\n",
      "File \u001b[1;32mc:\\Users\\oishi\\anaconda3\\envs\\py311\\Lib\\site-packages\\PIL\\Image.py:3305\u001b[0m, in \u001b[0;36mopen\u001b[1;34m(fp, mode, formats)\u001b[0m\n\u001b[0;32m   3303\u001b[0m     warnings\u001b[38;5;241m.\u001b[39mwarn(message)\n\u001b[0;32m   3304\u001b[0m msg \u001b[38;5;241m=\u001b[39m \u001b[38;5;124m\"\u001b[39m\u001b[38;5;124mcannot identify image file \u001b[39m\u001b[38;5;132;01m%r\u001b[39;00m\u001b[38;5;124m\"\u001b[39m \u001b[38;5;241m%\u001b[39m (filename \u001b[38;5;28;01mif\u001b[39;00m filename \u001b[38;5;28;01melse\u001b[39;00m fp)\n\u001b[1;32m-> 3305\u001b[0m \u001b[38;5;28;01mraise\u001b[39;00m UnidentifiedImageError(msg)\n",
      "\u001b[1;31mUnidentifiedImageError\u001b[0m: cannot identify image file <_io.BytesIO object at 0x0000020CCB565EE0>"
     ]
    }
   ],
   "source": [
    "from PIL import Image\n",
    "from io import BytesIO\n",
    "url = image_urls[0]\n",
    "response = requests.get(url)\n",
    "img = Image.open(BytesIO(response.content))"
   ]
  },
  {
   "cell_type": "code",
   "execution_count": null,
   "metadata": {},
   "outputs": [],
   "source": [
    "\n",
    "\n",
    "class BlobSamples:\n",
    "    def __init__(self):\n",
    "        self.container_name = \"sample-container\"  # Replace with your actual container name\n",
    "\n",
    "    async def download_blob_to_variable(self, blob_service_client: BlobServiceClient, container_name: str, blob_name: str):\n",
    "        # Create the BlobClient to interact with the specific blob\n",
    "        blob_client = blob_service_client.get_blob_client(container=container_name, blob=blob_name)\n",
    "\n",
    "        try:\n",
    "            # Download the blob asynchronously\n",
    "            download_stream = await blob_client.download_blob()\n",
    "            print(f\"Blob {blob_name} downloaded to memory.\")\n",
    "            return download_stream\n",
    "        except Exception as e:\n",
    "            print(f\"An error occurred while downloading the blob {blob_name}: {e}\")\n",
    "\n",
    "    async def download_multiple_blobs(self, blob_service_client: BlobServiceClient, container_name: str, blob_names: list):\n",
    "        # Create a list of tasks for downloading multiple blobs concurrently\n",
    "        download_tasks = [\n",
    "            self.download_blob_to_variable(blob_service_client, container_name, blob_name)\n",
    "            for blob_name in blob_names\n",
    "        ]\n",
    "        # Use asyncio.gather to run all download tasks concurrently\n",
    "        downloaded_data = await asyncio.gather(*download_tasks)\n",
    "        return downloaded_data\n",
    "\n",
    "async def get_blobs(blob_names, azure_connection_string):\n",
    "    sample = BlobSamples()\n",
    "\n",
    "    # Create the BlobServiceClient asynchronously, using the connection string\n",
    "    async with BlobServiceClient.from_connection_string(azure_connection_string) as blob_service_client:\n",
    "        blob_data = await sample.download_multiple_blobs(\n",
    "            blob_service_client=blob_service_client,\n",
    "            container_name=sample.container_name, \n",
    "            blob_name=blob_names)\n",
    "    return blob_data\n"
   ]
  },
  {
   "cell_type": "code",
   "execution_count": 19,
   "metadata": {},
   "outputs": [
    {
     "name": "stdout",
     "output_type": "stream",
     "text": [
      "An error occurred while downloading the blob raspberry_pi_uploads/1736779848.6032581(1).jpg: The specified container does not exist.\n",
      "RequestId:a7ae467d-d01e-0017-5de1-664c71000000\n",
      "Time:2025-01-15T00:10:02.7693407Z\n",
      "ErrorCode:ContainerNotFound\n",
      "Content: <?xml version=\"1.0\" encoding=\"utf-8\"?><Error><Code>ContainerNotFound</Code><Message>The specified container does not exist.\n",
      "RequestId:a7ae467d-d01e-0017-5de1-664c71000000\n",
      "Time:2025-01-15T00:10:02.7693407Z</Message></Error>\n"
     ]
    },
    {
     "data": {
      "text/plain": [
       "[None]"
      ]
     },
     "execution_count": 19,
     "metadata": {},
     "output_type": "execute_result"
    }
   ],
   "source": [
    "await get_blobs(blob_names=image_blob_names, azure_connection_string=AZURE_CONNECTION_STRING)"
   ]
  },
  {
   "cell_type": "code",
   "execution_count": 126,
   "metadata": {},
   "outputs": [
    {
     "name": "stdout",
     "output_type": "stream",
     "text": [
      "1\n",
      "An error occurred while downloading the blob raspberry_pi_uploads/1736779848.6032581(1).jpg: object StorageStreamDownloader can't be used in 'await' expression\n"
     ]
    },
    {
     "data": {
      "text/plain": [
       "[None]"
      ]
     },
     "execution_count": 126,
     "metadata": {},
     "output_type": "execute_result"
    }
   ],
   "source": [
    "a = BlobSamples()\n",
    "await a.download_multiple_blobs(blob_service_client=blob_service_client, container_name=CONTAINER_NAME, blob_names=image_blob_names)"
   ]
  },
  {
   "cell_type": "code",
   "execution_count": 20,
   "metadata": {},
   "outputs": [
    {
     "data": {
      "text/plain": [
       "['raspberry_pi_uploads/1736779848.6032581(1).jpg']"
      ]
     },
     "execution_count": 20,
     "metadata": {},
     "output_type": "execute_result"
    }
   ],
   "source": [
    "image_blob_names"
   ]
  },
  {
   "cell_type": "code",
   "execution_count": null,
   "metadata": {},
   "outputs": [],
   "source": []
  }
 ],
 "metadata": {
  "kernelspec": {
   "display_name": "py311",
   "language": "python",
   "name": "python3"
  },
  "language_info": {
   "codemirror_mode": {
    "name": "ipython",
    "version": 3
   },
   "file_extension": ".py",
   "mimetype": "text/x-python",
   "name": "python",
   "nbconvert_exporter": "python",
   "pygments_lexer": "ipython3",
   "version": "3.11.5"
  }
 },
 "nbformat": 4,
 "nbformat_minor": 2
}
